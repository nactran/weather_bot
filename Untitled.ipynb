{
 "cells": [
  {
   "cell_type": "code",
   "execution_count": 3,
   "metadata": {},
   "outputs": [
    {
     "name": "stderr",
     "output_type": "stream",
     "text": [
      "itchat has already logged in.\n"
     ]
    },
    {
     "name": "stdout",
     "output_type": "stream",
     "text": [
      "****预览****\n",
      "\n",
      "小结：\n",
      "d3.js基础语法：\n",
      " V3及v4以上版本间API的转换\n",
      "绘制SVG图像的基本语法:比例尺、颜色映射、stack() nest() ...\n",
      "柱状图\n",
      "力导向图\n",
      "河流图（stack\n",
      "社会网络图\n",
      " 数据的异步加载方法\n",
      "前端页面与Flask框架结合\n",
      "参数的传递\n",
      " jinja模版基本语法\n",
      "\n",
      "按任意键确认发送\n",
      "[<User: {'MemberList': <ContactList: []>, 'Uin': 0, 'UserName': '@fdf2badb5ea42e3d4f6e24962d9bd573066627f405f623d7f00ffa3c8b5dbcf0', 'NickName': 'yum', 'HeadImgUrl': '/cgi-bin/mmwebwx-bin/webwxgeticon?seq=676583983&username=@fdf2badb5ea42e3d4f6e24962d9bd573066627f405f623d7f00ffa3c8b5dbcf0&skey=@crypt_eb7c3c0c_a75f2601d31a3814e66ddf07dbc7e89b', 'ContactFlag': 1, 'MemberCount': 0, 'RemarkName': '', 'HideInputBarFlag': 0, 'Sex': 2, 'Signature': '把将果子来。', 'VerifyFlag': 0, 'OwnerUin': 0, 'PYInitial': 'YUM', 'PYQuanPin': 'yum', 'RemarkPYInitial': '', 'RemarkPYQuanPin': '', 'StarFriend': 0, 'AppAccountFlag': 0, 'Statues': 0, 'AttrStatus': 231589, 'Province': '', 'City': '', 'Alias': '', 'SnsFlag': 49, 'UniFriend': 0, 'DisplayName': '', 'ChatRoomId': 0, 'KeyWord': '', 'EncryChatRoomId': '', 'IsOwner': 0}>]\n",
      "发送成功\n"
     ]
    }
   ],
   "source": [
    "import itchat\n",
    "def sendMessage(mes):\n",
    "    itchat.auto_login()\n",
    "    print('****预览****\\n')\n",
    "    print(mes)\n",
    "    input('按任意键确认发送')\n",
    "    user_info = itchat.search_friends(name='yum')\n",
    "    print(user_info)\n",
    "    if len(user_info) > 0:\n",
    "        user_name = user_info[0]['UserName']\n",
    "        itchat.send_msg(mes,user_name)\n",
    "        print('发送成功')\n",
    "    else:\n",
    "        print('用户不存在')\n",
    "mes = '小结：\\nd3.js基础语法：\\n V3及v4以上版本间API的转换\\n绘制SVG图像的基本语法:比例尺、颜色映射、stack() nest() ...\\n柱状图\\n力导向图\\n河流图（stack\\n社会网络图\\n 数据的异步加载方法\\n前端页面与Flask框架结合\\n参数的传递\\n jinja模版基本语法\\n'\n",
    "sendMessage(mes)"
   ]
  },
  {
   "cell_type": "markdown",
   "metadata": {},
   "source": []
  }
 ],
 "metadata": {
  "kernelspec": {
   "display_name": "Python 3.6",
   "language": "python",
   "name": "myenv"
  },
  "language_info": {
   "codemirror_mode": {
    "name": "ipython",
    "version": 3
   },
   "file_extension": ".py",
   "mimetype": "text/x-python",
   "name": "python",
   "nbconvert_exporter": "python",
   "pygments_lexer": "ipython3",
   "version": "3.6.7"
  }
 },
 "nbformat": 4,
 "nbformat_minor": 2
}
